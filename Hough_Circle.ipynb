{
 "cells": [
  {
   "cell_type": "code",
   "execution_count": 1235,
   "metadata": {},
   "outputs": [],
   "source": [
    "import numpy\n",
    "import sys\n",
    "from collections import defaultdict\n",
    "sys.path.append('../')"
   ]
  },
  {
   "cell_type": "code",
   "execution_count": 1261,
   "metadata": {},
   "outputs": [
    {
     "name": "stdout",
     "output_type": "stream",
     "text": [
      "Populating the interactive namespace from numpy and matplotlib\n"
     ]
    }
   ],
   "source": [
    "from util.image import convert_to_grayscale\n",
    "from util.filters import make_gaussian_kernel, filter_2d, roberts_cross\n",
    "%pylab inline"
   ]
  },
  {
   "cell_type": "code",
   "execution_count": 1257,
   "metadata": {},
   "outputs": [],
   "source": [
    "kernel = make_gaussian_kernel(5, 5)\n",
    "blurred_gray = filter_2d(conv2d, kernel)"
   ]
  },
  {
   "cell_type": "code",
   "execution_count": 1258,
   "metadata": {},
   "outputs": [],
   "source": [
    "canny = canny_edge_detection(blurred_gray, t=0.1)\n",
    "y_coords, x_coords = np.where(canny)"
   ]
  },
  {
   "cell_type": "code",
   "execution_count": 1260,
   "metadata": {
    "collapsed": true
   },
   "outputs": [
    {
     "data": {
      "text/plain": [
       "[(19, 25, 21),\n",
       " (20, 21, 20),\n",
       " (21, 21, 20),\n",
       " (21, 29, 20),\n",
       " (24, 21, 23),\n",
       " (25, 20, 23),\n",
       " (32, 32, 24)]"
      ]
     },
     "execution_count": 1260,
     "metadata": {},
     "output_type": "execute_result"
    }
   ],
   "source": [
    "HoughCircle = HoughCircleAccumulator(x_coords, y_coords,\n",
    "                                     radius_min=18, radius_max=35)\n",
    "circles = HoughCircle.createCircles(100, threshold=0.25)\n",
    "circles"
   ]
  },
  {
   "cell_type": "code",
   "execution_count": null,
   "metadata": {},
   "outputs": [],
   "source": [
    "rho_min = -edges.shape[0]\n",
    "rho_max = edges.shape[1]\n",
    "hough = HoughAccumulator(128, 128, rho_min, rho_max)\n",
    "accumulator = hough.accumulate(x_coords, y_coords)\n",
    "max_value = np.max(accumulator)"
   ]
  },
  {
   "cell_type": "code",
   "execution_count": null,
   "metadata": {},
   "outputs": [],
   "source": [
    "#Indices of maximum theta and rho values\n",
    "rho_max_indices, theta_max_indices = np.where(accumulator > 0.6 * max_value)\n",
    "thetas_max = hough.thetas[theta_max_indices]\n",
    "rhos_max = hough.rhos[rho_max_indices]\n",
    "l_thetas = len(thetas_max)\n",
    "slope = calculate_slope_differentials(thetas_max)\n",
    "thetas_max, rhos_max"
   ]
  },
  {
   "cell_type": "code",
   "execution_count": 414,
   "metadata": {},
   "outputs": [],
   "source": [
    "import collections\n",
    "class HoughCircleAccumulator():\n",
    "    def __init__(self,x_coords, y_coords, radius_min=70, radius_max=75):\n",
    "            self.x_coords = x_coords\n",
    "            self.y_coords = y_coords\n",
    "            self.radius_min = radius_min\n",
    "            self.radius_max = radius_max\n",
    "            self.accumulate = collections.defaultdict(int)\n",
    "            \n",
    "    def createCircles(self, n_iter, threshold=0.3):\n",
    "        points = []\n",
    "        # Create Possible Points\n",
    "        for r in range(self.radius_min, self.radius_max):\n",
    "            for t in range(n_iter):\n",
    "                points.append((r, int(r * cos(2 * pi * t / n_iter)), int(r * sin(2 * pi * t / n_iter))))\n",
    "\n",
    "        # Hough Points on Space\n",
    "        for x, y in zip(self.x_coords, self.y_coords):\n",
    "            for r, dx, dy in points:\n",
    "                a = x - dx\n",
    "                b = y - dy\n",
    "                # possible centroids\n",
    "                self.accumulate[(a, b, r)] += 1\n",
    "        \n",
    "        circles = self.threshold_accumulator(n_iter, threshold=threshold)\n",
    "        return circles\n",
    "        \n",
    "    def threshold_accumulator(self, n_iter, threshold=0.3):\n",
    "        circles = []\n",
    "        for key, val in sorted(self.accumulate.items()):\n",
    "            x, y, r = key\n",
    "            if (val / n_iter) > threshold and all((x - xc) ** 2 + (y - yc) ** 2 > rc ** 2 for xc, yc, rc in circles):\n",
    "                circles.append((x, y, r))\n",
    "        return circles\n",
    "    \n",
    "    def calculate_max_occurences(circles):\n",
    "        count = collections.defaultdict(int)\n",
    "        maxCircleOcc = 0\n",
    "        center = (0,0)\n",
    "        for x, y, r in circles:\n",
    "            count[(x,y)] += 1\n",
    "            if count[(x,y)] > maxCircleOcc:\n",
    "                maxCircleOcc = count[(x,y)]\n",
    "                center = (x,y)\n",
    "\n",
    "        rangeLo = float('inf')\n",
    "        rangeHi = float('-inf')\n",
    "        for k, v in count.items():\n",
    "            a, b = k\n",
    "            rangeLo = min(rangeLo, min(a, b))\n",
    "            rangeHi = max(rangeHi, max(a, b))\n",
    "        return (rangeLo, rangeHi, center)\n",
    "\n",
    "def calculate_x_y(blurred_image, threshold=0.03):\n",
    "    # Sobel Feldman\n",
    "    Kx = np.array([[1, 0, -1], \n",
    "          [2, 0, -2],\n",
    "          [1, 0, -1]])\n",
    "    Ky = np.array([[1, 2, 1],\n",
    "          [0, 0, 0],\n",
    "          [-1, -2, -1]])\n",
    "    Gx = filter_2d(blurred_gray, Kx)\n",
    "    Gy = filter_2d(blurred_gray, Ky)\n",
    "\n",
    "    G = np.sqrt(Gx**2+ Gy**2)\n",
    "    thresh = threshold\n",
    "    edges = G > thresh\n",
    "    y_coords, x_coords = np.where(edges)\n",
    "    return edges, y_coords, x_coords\n",
    "\n",
    "def max_pool(input_im):\n",
    "    h, w = input_im.shape\n",
    "    new_h = h//2\n",
    "    new_w = w//2\n",
    "    reduced = np.zeros((new_h, new_w))\n",
    "    for i in range(new_h):\n",
    "      for j in range(new_w):\n",
    "        reduced[i][j] = np.max(input_im[(i * 2):(i * 2 + 2), (j * 2):(j * 2 + 2)])\n",
    "    \n",
    "    return reduced\n",
    "\n",
    "def canny_edge_detection(convolved_image, t):\n",
    "    G, G_direction = sobel_feldmans(convolved_image)\n",
    "    sup = non_max_suppression(G, G_direction)\n",
    "    # left out hysteria's -- too bored to finish\n",
    "    ret = sup > t\n",
    "    return ret\n",
    "\n",
    "def non_max_suppression(gradient_magnitude, gradient_direction):\n",
    "    image_row, image_col = gradient_magnitude.shape\n",
    "    output = np.zeros(gradient_magnitude.shape)\n",
    "    PI = 180\t\n",
    "    \n",
    "    # check all sides bi-directional to current magnitude\n",
    "    for row in range(1, image_row - 1):\n",
    "        for col in range(1, image_col - 1):\n",
    "            direction = gradient_direction[row, col]\n",
    "\n",
    "            if (0 <= direction < PI / 8) or (15 * PI / 8 <= direction <= 2 * PI):\n",
    "                before_pixel = gradient_magnitude[row, col - 1]\n",
    "                after_pixel = gradient_magnitude[row, col + 1]\n",
    "\n",
    "            elif (PI / 8 <= direction < 3 * PI / 8) or (9 * PI / 8 <= direction < 11 * PI / 8):\n",
    "                before_pixel = gradient_magnitude[row + 1, col - 1]\n",
    "                after_pixel = gradient_magnitude[row - 1, col + 1]\n",
    "\n",
    "            elif (3 * PI / 8 <= direction < 5 * PI / 8) or (11 * PI / 8 <= direction < 13 * PI / 8):\n",
    "                before_pixel = gradient_magnitude[row - 1, col]\n",
    "                after_pixel = gradient_magnitude[row + 1, col]\n",
    "\n",
    "            else:\n",
    "                before_pixel = gradient_magnitude[row - 1, col - 1]\n",
    "                after_pixel = gradient_magnitude[row + 1, col + 1]\n",
    "\n",
    "            if gradient_magnitude[row, col] >= before_pixel and gradient_magnitude[row, col] >= after_pixel:\n",
    "                output[row, col] = gradient_magnitude[row, col]\n",
    "    return output\n",
    "\n",
    "def sobel_feldmans(blurred_image):\n",
    "    # Sobel-Feldman Filters\n",
    "    Kx = np.array([[5, 0, -5], \n",
    "          [7, 0, -7],\n",
    "          [5, 0, -5]])\n",
    "    Ky = np.array([[5, 7, 5],\n",
    "          [0, 0, 0],\n",
    "          [-5, -7, -5]])\n",
    "    Gx = filter_2d(blurred_image, Kx)\n",
    "    Gy = filter_2d(blurred_image, Ky)\n",
    "    \n",
    "    G_direction = np.arctan2(Gx, Gy)\n",
    "    G = np.sqrt(Gx**2+ Gy**2)\n",
    "    return G, G_direction"
   ]
  }
 ],
 "metadata": {
  "kernelspec": {
   "display_name": "Python 3",
   "language": "python",
   "name": "python3"
  },
  "language_info": {
   "codemirror_mode": {
    "name": "ipython",
    "version": 3
   },
   "file_extension": ".py",
   "mimetype": "text/x-python",
   "name": "python",
   "nbconvert_exporter": "python",
   "pygments_lexer": "ipython3",
   "version": "3.8.5"
  }
 },
 "nbformat": 4,
 "nbformat_minor": 4
}
